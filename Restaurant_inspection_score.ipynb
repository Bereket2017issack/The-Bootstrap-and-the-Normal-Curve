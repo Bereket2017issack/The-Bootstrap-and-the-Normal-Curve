{
  "nbformat": 4,
  "nbformat_minor": 0,
  "metadata": {
    "colab": {
      "name": "Restaurant_inspection_score.ipynb",
      "version": "0.3.2",
      "provenance": [],
      "include_colab_link": true
    },
    "kernelspec": {
      "name": "python3",
      "display_name": "Python 3"
    },
    "accelerator": "GPU"
  },
  "cells": [
    {
      "cell_type": "markdown",
      "metadata": {
        "id": "view-in-github",
        "colab_type": "text"
      },
      "source": [
        "<a href=\"https://colab.research.google.com/github/Bereket2017issack/The-Bootstrap-and-the-Normal-Curve/blob/master/Restaurant_inspection_score.ipynb\" target=\"_parent\"><img src=\"https://colab.research.google.com/assets/colab-badge.svg\" alt=\"Open In Colab\"/></a>"
      ]
    },
    {
      "metadata": {
        "colab_type": "code",
        "id": "XqSKIl45vrID",
        "colab": {}
      },
      "cell_type": "code",
      "source": [
        ""
      ],
      "execution_count": 0,
      "outputs": []
    },
    {
      "metadata": {
        "id": "CLazZwjrv3E2",
        "colab_type": "text"
      },
      "cell_type": "markdown",
      "source": [
        "## Import all the necessary libraries to create tables "
      ]
    },
    {
      "metadata": {
        "id": "29O69yex_a3g",
        "colab_type": "code",
        "colab": {}
      },
      "cell_type": "code",
      "source": [
        "# link to the dataset \"https://raw.githubusercontent.com/data-8/data8assets/gh-pages/materials/fa16/hw/hw09/restaurant_inspection_scores.csv\"\n",
        "\n",
        "# Don't change this cell; just run it. \n",
        "\n",
        "import numpy as np\n",
        "from datascience import *\n",
        "\n",
        "# These lines do some fancy plotting magic.\n",
        "import matplotlib\n",
        "%matplotlib inline\n",
        "import matplotlib.pyplot as plt\n",
        "plt.style.use('fivethirtyeight')\n",
        "import warnings\n",
        "warnings.simplefilter('ignore', FutureWarning)\n",
        "\n",
        "from client.api.notebook import Notebook\n",
        "ok = Notebook('hw09.ok')\n",
        "_ = ok.auth(inline=True)\n",
        "\n",
        "\n",
        "\n",
        "import pandas as pd\n",
        "import numpy as np\n",
        "import matplotlib.pyplot as plt\n",
        "import seaborn as snb"
      ],
      "execution_count": 0,
      "outputs": []
    },
    {
      "metadata": {
        "colab_type": "code",
        "outputId": "e4ad01af-ee21-43a4-98ac-0006b3233f76",
        "id": "EYwdwc4xvoqk",
        "colab": {
          "base_uri": "https://localhost:8080/",
          "height": 388
        }
      },
      "cell_type": "code",
      "source": [
        "# Just run this cell.\n",
        "pop_restaurants = Table.read_table('https://raw.githubusercontent.com/data-8/data8assets/gh-pages/materials/fa16/hw/hw09/restaurant_inspection_scores.csv')\n",
        "pop_restaurants"
      ],
      "execution_count": 0,
      "outputs": [
        {
          "output_type": "execute_result",
          "data": {
            "text/html": [
              "<table border=\"1\" class=\"dataframe\">\n",
              "    <thead>\n",
              "        <tr>\n",
              "            <th>Restaurant Name</th> <th>Zip Code</th> <th>Inspection Date</th> <th>Score</th> <th>Address</th> <th>Facility ID</th> <th>Process Description</th>\n",
              "        </tr>\n",
              "    </thead>\n",
              "    <tbody>\n",
              "        <tr>\n",
              "            <td>6M Grocery     </td> <td>78652   </td> <td>01/17/2014     </td> <td>90   </td> <td>805 W FM 1626 RD\n",
              "AUSTIN, TX 78652\n",
              "     </td> <td>2803436    </td> <td>Routine Inspection </td>\n",
              "        </tr>\n",
              "        <tr>\n",
              "            <td>6M Grocery     </td> <td>78652   </td> <td>04/27/2015     </td> <td>93   </td> <td>805 W FM 1626 RD\n",
              "AUSTIN, TX 78652\n",
              "     </td> <td>2803436    </td> <td>Routine Inspection </td>\n",
              "        </tr>\n",
              "        <tr>\n",
              "            <td>6M Grocery     </td> <td>78652   </td> <td>05/02/2016     </td> <td>88   </td> <td>805 W FM 1626 RD\n",
              "AUSTIN, TX 78652\n",
              "     </td> <td>2803436    </td> <td>Routine Inspection </td>\n",
              "        </tr>\n",
              "        <tr>\n",
              "            <td>6M Grocery     </td> <td>78652   </td> <td>07/25/2014     </td> <td>100  </td> <td>805 W FM 1626 RD\n",
              "AUSTIN, TX 78652\n",
              "     </td> <td>2803436    </td> <td>Routine Inspection </td>\n",
              "        </tr>\n",
              "        <tr>\n",
              "            <td>6M Grocery     </td> <td>78652   </td> <td>10/21/2015     </td> <td>87   </td> <td>805 W FM 1626 RD\n",
              "AUSTIN, TX 78652\n",
              "     </td> <td>2803436    </td> <td>Routine Inspection </td>\n",
              "        </tr>\n",
              "        <tr>\n",
              "            <td>6M Grocery     </td> <td>78652   </td> <td>12/15/2014     </td> <td>93   </td> <td>805 W FM 1626 RD\n",
              "AUSTIN, TX 78652\n",
              "     </td> <td>2803436    </td> <td>Routine Inspection </td>\n",
              "        </tr>\n",
              "        <tr>\n",
              "            <td>7 Eleven #36575</td> <td>78660   </td> <td>01/25/2016     </td> <td>92   </td> <td>15829 N IH 35 SVRD NB\n",
              "AUSTIN, TX 78660\n",
              "</td> <td>10874330   </td> <td>Routine Inspection </td>\n",
              "        </tr>\n",
              "        <tr>\n",
              "            <td>7 Eleven #36575</td> <td>78660   </td> <td>03/05/2015     </td> <td>86   </td> <td>15829 N IH 35 SVRD NB\n",
              "AUSTIN, TX 78660\n",
              "</td> <td>10874330   </td> <td>Routine Inspection </td>\n",
              "        </tr>\n",
              "        <tr>\n",
              "            <td>7 Eleven #36575</td> <td>78660   </td> <td>03/14/2014     </td> <td>93   </td> <td>15829 N IH 35 SVRD NB\n",
              "AUSTIN, TX 78660\n",
              "</td> <td>10874330   </td> <td>Routine Inspection </td>\n",
              "        </tr>\n",
              "        <tr>\n",
              "            <td>7 Eleven #36575</td> <td>78660   </td> <td>07/27/2015     </td> <td>97   </td> <td>15829 N IH 35 SVRD NB\n",
              "AUSTIN, TX 78660\n",
              "</td> <td>10874330   </td> <td>Routine Inspection </td>\n",
              "        </tr>\n",
              "    </tbody>\n",
              "</table>\n",
              "<p>... (24357 rows omitted)</p>"
            ],
            "text/plain": [
              "Restaurant Name | Zip Code | Inspection Date | Score | Address                                 | Facility ID | Process Description\n",
              "6M Grocery      | 78652    | 01/17/2014      | 90    | 805 W FM 1626 RD\n",
              "AUSTIN, TX 78652\n",
              "      | 2803436     | Routine Inspection\n",
              "6M Grocery      | 78652    | 04/27/2015      | 93    | 805 W FM 1626 RD\n",
              "AUSTIN, TX 78652\n",
              "      | 2803436     | Routine Inspection\n",
              "6M Grocery      | 78652    | 05/02/2016      | 88    | 805 W FM 1626 RD\n",
              "AUSTIN, TX 78652\n",
              "      | 2803436     | Routine Inspection\n",
              "6M Grocery      | 78652    | 07/25/2014      | 100   | 805 W FM 1626 RD\n",
              "AUSTIN, TX 78652\n",
              "      | 2803436     | Routine Inspection\n",
              "6M Grocery      | 78652    | 10/21/2015      | 87    | 805 W FM 1626 RD\n",
              "AUSTIN, TX 78652\n",
              "      | 2803436     | Routine Inspection\n",
              "6M Grocery      | 78652    | 12/15/2014      | 93    | 805 W FM 1626 RD\n",
              "AUSTIN, TX 78652\n",
              "      | 2803436     | Routine Inspection\n",
              "7 Eleven #36575 | 78660    | 01/25/2016      | 92    | 15829 N IH 35 SVRD NB\n",
              "AUSTIN, TX 78660\n",
              " | 10874330    | Routine Inspection\n",
              "7 Eleven #36575 | 78660    | 03/05/2015      | 86    | 15829 N IH 35 SVRD NB\n",
              "AUSTIN, TX 78660\n",
              " | 10874330    | Routine Inspection\n",
              "7 Eleven #36575 | 78660    | 03/14/2014      | 93    | 15829 N IH 35 SVRD NB\n",
              "AUSTIN, TX 78660\n",
              " | 10874330    | Routine Inspection\n",
              "7 Eleven #36575 | 78660    | 07/27/2015      | 97    | 15829 N IH 35 SVRD NB\n",
              "AUSTIN, TX 78660\n",
              " | 10874330    | Routine Inspection\n",
              "... (24357 rows omitted)"
            ]
          },
          "metadata": {
            "tags": []
          },
          "execution_count": 2
        }
      ]
    },
    {
      "metadata": {
        "colab_type": "code",
        "outputId": "45b69021-592f-40ef-c587-75c7dc7790a8",
        "id": "CiC59yIKvoOk",
        "colab": {
          "base_uri": "https://localhost:8080/",
          "height": 300
        }
      },
      "cell_type": "code",
      "source": [
        "pop_restaurants.hist(\"Score\", ec='w')"
      ],
      "execution_count": 0,
      "outputs": [
        {
          "output_type": "display_data",
          "data": {
            "image/png": "[encoded data removed]",
            "text/plain": [
              "<Figure size 432x288 with 1 Axes>"
            ]
          },
          "metadata": {
            "tags": []
          }
        }
      ]
    },
    {
      "metadata": {
        "id": "5lyJX4dOKBo6",
        "colab_type": "code",
        "outputId": "140d75b9-8a14-4fc0-bfbf-344cafdb7129",
        "colab": {
          "base_uri": "https://localhost:8080/",
          "height": 34
        }
      },
      "cell_type": "code",
      "source": [
        "# Population mean \n",
        "pop_mean = np.mean(pop_restaurants.column(3))\n",
        "pop_mean"
      ],
      "execution_count": 4,
      "outputs": [
        {
          "output_type": "execute_result",
          "data": {
            "text/plain": [
              "91.40706693478886"
            ]
          },
          "metadata": {
            "tags": []
          },
          "execution_count": 4
        }
      ]
    },
    {
      "metadata": {
        "id": "fFfdUgnwGlwz",
        "colab_type": "text"
      },
      "cell_type": "markdown",
      "source": [
        "Often it is impossible to find complete datasets like this.  Imagine we instead had access only to a random sample of 100 restaurant inspections, called `restaurant_sample`.  That table is created below. We are interested in using this sample to estimate the population mean."
      ]
    },
    {
      "metadata": {
        "id": "03aGYEb31gxr",
        "colab_type": "code",
        "outputId": "4e32ae9b-2a8d-411d-b110-1735e2129227",
        "colab": {
          "base_uri": "https://localhost:8080/",
          "height": 490
        }
      },
      "cell_type": "code",
      "source": [
        "restaurant_sample = pop_restaurants.sample(100, with_replacement=False)\n",
        "restaurant_sample"
      ],
      "execution_count": 5,
      "outputs": [
        {
          "output_type": "execute_result",
          "data": {
            "text/html": [
              "<table border=\"1\" class=\"dataframe\">\n",
              "    <thead>\n",
              "        <tr>\n",
              "            <th>Restaurant Name</th> <th>Zip Code</th> <th>Inspection Date</th> <th>Score</th> <th>Address</th> <th>Facility ID</th> <th>Process Description</th>\n",
              "        </tr>\n",
              "    </thead>\n",
              "    <tbody>\n",
              "        <tr>\n",
              "            <td>Changos                                </td> <td>78705   </td> <td>06/25/2014     </td> <td>92   </td> <td>3023 GUADALUPE ST\n",
              "AUSTIN, TX 78705\n",
              "(30.29717, -97.741673)   </td> <td>2801137    </td> <td>1st Follow Up to Routine of 50 - 69</td>\n",
              "        </tr>\n",
              "        <tr>\n",
              "            <td>Target Store #96                       </td> <td>78704   </td> <td>01/12/2015     </td> <td>89   </td> <td>2300 W BEN WHITE BLVD WB\n",
              "AUSTIN, TX 78704\n",
              "(30.232159, -9 ...</td> <td>2800638    </td> <td>Routine Inspection                 </td>\n",
              "        </tr>\n",
              "        <tr>\n",
              "            <td>Heritage of Gaines Ranch- Assist Living</td> <td>78735   </td> <td>02/23/2015     </td> <td>97   </td> <td>4409 GAINES RANCH LOOP\n",
              "AUSTIN, TX 78735\n",
              "(30.241887, -97. ...</td> <td>2801297    </td> <td>Routine Inspection                 </td>\n",
              "        </tr>\n",
              "        <tr>\n",
              "            <td>Which Wich                             </td> <td>78701   </td> <td>10/09/2015     </td> <td>64   </td> <td>259 W 3RD ST\n",
              "AUSTIN, TX 78701\n",
              "(30.265882, -97.746071)       </td> <td>10976306   </td> <td>Routine Inspection                 </td>\n",
              "        </tr>\n",
              "        <tr>\n",
              "            <td>Austin's Pizza                         </td> <td>78705   </td> <td>09/18/2015     </td> <td>97   </td> <td>2324 GUADALUPE ST\n",
              "AUSTIN, TX 78705\n",
              "(30.286939, -97.741674)  </td> <td>2802926    </td> <td>Routine Inspection                 </td>\n",
              "        </tr>\n",
              "        <tr>\n",
              "            <td>VV - AC VIP Marina, LLC                </td> <td>78641   </td> <td>04/04/2014     </td> <td>100  </td> <td>16107 FM 2769 #B\n",
              "VOLENTE, TX 78641\n",
              "(30.441639, -97.91229)   </td> <td>10406162   </td> <td>Routine Inspection                 </td>\n",
              "        </tr>\n",
              "        <tr>\n",
              "            <td>El Sapo Botanas Y Burgers              </td> <td>78722   </td> <td>09/18/2015     </td> <td>78   </td> <td>1900 MANOR RD\n",
              "AUSTIN, TX 78722\n",
              "(30.283868, -97.721726)      </td> <td>10678699   </td> <td>Routine Inspection                 </td>\n",
              "        </tr>\n",
              "        <tr>\n",
              "            <td>LW - Sonic                             </td> <td>78734   </td> <td>05/21/2014     </td> <td>82   </td> <td>2102 S FM 620 RD\n",
              "LAKEWAY, TX 78734\n",
              "(30.343014, -97.967109)  </td> <td>2800793    </td> <td>Routine Inspection                 </td>\n",
              "        </tr>\n",
              "        <tr>\n",
              "            <td>Longhorn Village - Formal Dining       </td> <td>78732   </td> <td>10/22/2015     </td> <td>92   </td> <td>12501 LONGHORN PKWY\n",
              "AUSTIN, TX 78732\n",
              "(30.351175, -97.909237)</td> <td>10260609   </td> <td>Routine Inspection                 </td>\n",
              "        </tr>\n",
              "        <tr>\n",
              "            <td>Verts Mediterranean Grill, Inc.        </td> <td>78704   </td> <td>03/07/2016     </td> <td>96   </td> <td>1500 S LAMAR BLVD\n",
              "AUSTIN, TX 78704\n",
              "(30.252147, -97.7643)    </td> <td>10912346   </td> <td>Routine Inspection                 </td>\n",
              "        </tr>\n",
              "    </tbody>\n",
              "</table>\n",
              "<p>... (90 rows omitted)</p>"
            ],
            "text/plain": [
              "Restaurant Name                         | Zip Code | Inspection Date | Score | Address                                                      | Facility ID | Process Description\n",
              "Changos                                 | 78705    | 06/25/2014      | 92    | 3023 GUADALUPE ST\n",
              "AUSTIN, TX 78705\n",
              "(30.29717, -97.741673)    | 2801137     | 1st Follow Up to Routine of 50 - 69\n",
              "Target Store #96                        | 78704    | 01/12/2015      | 89    | 2300 W BEN WHITE BLVD WB\n",
              "AUSTIN, TX 78704\n",
              "(30.232159, -9 ... | 2800638     | Routine Inspection\n",
              "Heritage of Gaines Ranch- Assist Living | 78735    | 02/23/2015      | 97    | 4409 GAINES RANCH LOOP\n",
              "AUSTIN, TX 78735\n",
              "(30.241887, -97. ... | 2801297     | Routine Inspection\n",
              "Which Wich                              | 78701    | 10/09/2015      | 64    | 259 W 3RD ST\n",
              "AUSTIN, TX 78701\n",
              "(30.265882, -97.746071)        | 10976306    | Routine Inspection\n",
              "Austin's Pizza                          | 78705    | 09/18/2015      | 97    | 2324 GUADALUPE ST\n",
              "AUSTIN, TX 78705\n",
              "(30.286939, -97.741674)   | 2802926     | Routine Inspection\n",
              "VV - AC VIP Marina, LLC                 | 78641    | 04/04/2014      | 100   | 16107 FM 2769 #B\n",
              "VOLENTE, TX 78641\n",
              "(30.441639, -97.91229)    | 10406162    | Routine Inspection\n",
              "El Sapo Botanas Y Burgers               | 78722    | 09/18/2015      | 78    | 1900 MANOR RD\n",
              "AUSTIN, TX 78722\n",
              "(30.283868, -97.721726)       | 10678699    | Routine Inspection\n",
              "LW - Sonic                              | 78734    | 05/21/2014      | 82    | 2102 S FM 620 RD\n",
              "LAKEWAY, TX 78734\n",
              "(30.343014, -97.967109)   | 2800793     | Routine Inspection\n",
              "Longhorn Village - Formal Dining        | 78732    | 10/22/2015      | 92    | 12501 LONGHORN PKWY\n",
              "AUSTIN, TX 78732\n",
              "(30.351175, -97.909237) | 10260609    | Routine Inspection\n",
              "Verts Mediterranean Grill, Inc.         | 78704    | 03/07/2016      | 96    | 1500 S LAMAR BLVD\n",
              "AUSTIN, TX 78704\n",
              "(30.252147, -97.7643)     | 10912346    | Routine Inspection\n",
              "... (90 rows omitted)"
            ]
          },
          "metadata": {
            "tags": []
          },
          "execution_count": 5
        }
      ]
    },
    {
      "metadata": {
        "id": "JBpSmj9j10as",
        "colab_type": "code",
        "outputId": "2b8a9ba2-ee59-443b-88a1-11f5e2c49b97",
        "colab": {
          "base_uri": "https://localhost:8080/",
          "height": 300
        }
      },
      "cell_type": "code",
      "source": [
        "# Plotting histogram of scores\n",
        "restaurant_sample.hist(\"Score\", ec='y')"
      ],
      "execution_count": 6,
      "outputs": [
        {
          "output_type": "display_data",
          "data": {
            "image/png": "[encoded data removed]",
            "text/plain": [
              "<Figure size 432x288 with 1 Axes>"
            ]
          },
          "metadata": {
            "tags": []
          }
        }
      ]
    },
    {
      "metadata": {
        "id": "xQklvJNk2E0w",
        "colab_type": "code",
        "outputId": "ba897bf2-e82c-4e3a-ee24-043039f263a7",
        "colab": {
          "base_uri": "https://localhost:8080/",
          "height": 34
        }
      },
      "cell_type": "code",
      "source": [
        "#Sample mean\n",
        "sample_mean = np.mean(restaurant_sample.column(3))\n",
        "sample_mean"
      ],
      "execution_count": 7,
      "outputs": [
        {
          "output_type": "execute_result",
          "data": {
            "text/plain": [
              "91.8"
            ]
          },
          "metadata": {
            "tags": []
          },
          "execution_count": 7
        }
      ]
    },
    {
      "metadata": {
        "id": "bvKp_rR3GlxZ",
        "colab_type": "text"
      },
      "cell_type": "markdown",
      "source": [
        "\n",
        "Complete the function `bootstrap_scores` below. It should take no arguments. It should simulate drawing 5000 resamples from `restaurant_sample` and computing the mean restaurant score in each resample.  It should return an array of those 5000 resample means."
      ]
    },
    {
      "metadata": {
        "id": "ThLDI0oG2UGA",
        "colab_type": "code",
        "outputId": "64932089-24bb-4930-e59a-31c71c8104e8",
        "colab": {
          "base_uri": "https://localhost:8080/",
          "height": 34
        }
      },
      "cell_type": "code",
      "source": [
        "def bootstrap_scores():\n",
        "    resampled_means = make_array()\n",
        "    for i in range(5000):\n",
        "        resampled_mean = np.mean(restaurant_sample.sample().column(3))\n",
        "        resampled_means = np.append(resampled_means, resampled_mean)\n",
        "    return resampled_means\n",
        "    #resampled_means = Table().with_column('resampleed_means', resampled_means)\n",
        "\n",
        "\n",
        "resampled_means = bootstrap_scores()\n",
        "resampled_means"
      ],
      "execution_count": 8,
      "outputs": [
        {
          "output_type": "execute_result",
          "data": {
            "text/plain": [
              "array([91.63, 90.98, 92.47, ..., 91.53, 90.97, 91.6 ])"
            ]
          },
          "metadata": {
            "tags": []
          },
          "execution_count": 8
        }
      ]
    },
    {
      "metadata": {
        "colab_type": "code",
        "id": "25CFeL1wvpaT",
        "colab": {}
      },
      "cell_type": "code",
      "source": [
        ""
      ],
      "execution_count": 0,
      "outputs": []
    },
    {
      "metadata": {
        "id": "xLStc25lGlxx",
        "colab_type": "text"
      },
      "cell_type": "markdown",
      "source": [
        "Take a look at the histogram of the **resampled means**."
      ]
    },
    {
      "metadata": {
        "id": "_NHkrY7v2vs-",
        "colab_type": "code",
        "outputId": "0f07b899-30aa-483a-e9e4-658533942476",
        "colab": {
          "base_uri": "https://localhost:8080/",
          "height": 388
        }
      },
      "cell_type": "code",
      "source": [
        "table_resample = Table().with_column('Resampled Means', resampled_means)\n",
        "table_resample\n",
        "\n"
      ],
      "execution_count": 9,
      "outputs": [
        {
          "output_type": "execute_result",
          "data": {
            "text/html": [
              "<table border=\"1\" class=\"dataframe\">\n",
              "    <thead>\n",
              "        <tr>\n",
              "            <th>Resampled Means</th>\n",
              "        </tr>\n",
              "    </thead>\n",
              "    <tbody>\n",
              "        <tr>\n",
              "            <td>91.63          </td>\n",
              "        </tr>\n",
              "        <tr>\n",
              "            <td>90.98          </td>\n",
              "        </tr>\n",
              "        <tr>\n",
              "            <td>92.47          </td>\n",
              "        </tr>\n",
              "        <tr>\n",
              "            <td>91.14          </td>\n",
              "        </tr>\n",
              "        <tr>\n",
              "            <td>92.09          </td>\n",
              "        </tr>\n",
              "        <tr>\n",
              "            <td>91.05          </td>\n",
              "        </tr>\n",
              "        <tr>\n",
              "            <td>92.95          </td>\n",
              "        </tr>\n",
              "        <tr>\n",
              "            <td>91.32          </td>\n",
              "        </tr>\n",
              "        <tr>\n",
              "            <td>91.64          </td>\n",
              "        </tr>\n",
              "        <tr>\n",
              "            <td>91.72          </td>\n",
              "        </tr>\n",
              "    </tbody>\n",
              "</table>\n",
              "<p>... (4990 rows omitted)</p>"
            ],
            "text/plain": [
              "Resampled Means\n",
              "91.63\n",
              "90.98\n",
              "92.47\n",
              "91.14\n",
              "92.09\n",
              "91.05\n",
              "92.95\n",
              "91.32\n",
              "91.64\n",
              "91.72\n",
              "... (4990 rows omitted)"
            ]
          },
          "metadata": {
            "tags": []
          },
          "execution_count": 9
        }
      ]
    },
    {
      "metadata": {
        "id": "1ooLzJnPci5Y",
        "colab_type": "code",
        "outputId": "b54a12f5-f6f6-4531-d151-737b149343f9",
        "colab": {
          "base_uri": "https://localhost:8080/",
          "height": 300
        }
      },
      "cell_type": "code",
      "source": [
        "table_resample.hist(ec = 'y')"
      ],
      "execution_count": 10,
      "outputs": [
        {
          "output_type": "display_data",
          "data": {
            "image/png": "[encoded data removed]",
            "text/plain": [
              "<Figure size 432x288 with 1 Axes>"
            ]
          },
          "metadata": {
            "tags": []
          }
        }
      ]
    },
    {
      "metadata": {
        "id": "X-iZpieT2ykH",
        "colab_type": "code",
        "outputId": "2075106c-1208-4be5-a886-0dcecc52d9b8",
        "colab": {
          "base_uri": "https://localhost:8080/",
          "height": 51
        }
      },
      "cell_type": "code",
      "source": [
        "#Compute a 95 percent confidence interval for the average restaurant score using the array resampled_means.\n",
        "\n",
        "lower_bound =  percentile(2.5, resampled_means)\n",
        "upper_bound = percentile(97.5, resampled_means)\n",
        "print(\"95% confidence interval for the average restaurant score, computed by bootstrapping:\\n(\",lower_bound, \",\", upper_bound, \")\")"
      ],
      "execution_count": 11,
      "outputs": [
        {
          "output_type": "stream",
          "text": [
            "95% confidence interval for the average restaurant score, computed by bootstrapping:\n",
            "( 90.12 , 93.38 )\n"
          ],
          "name": "stdout"
        }
      ]
    },
    {
      "metadata": {
        "colab_type": "code",
        "id": "lVI1bnGWvp5q",
        "colab": {}
      },
      "cell_type": "code",
      "source": [
        ""
      ],
      "execution_count": 0,
      "outputs": []
    },
    {
      "metadata": {
        "id": "xTl67uREGlyS",
        "colab_type": "text"
      },
      "cell_type": "markdown",
      "source": [
        "\n",
        "Without referencing the array `resampled_means` or performing any new simulations, calculate an interval around the `sample_mean` that covers approximately 95% of the numbers in the `resampled_means` array.  **You may use the following values to compute your result, but you should not perform additional resampling** - think about how you can use the CLT to accomplish this."
      ]
    },
    {
      "metadata": {
        "id": "4mP8g_aM3PDX",
        "colab_type": "code",
        "outputId": "afc129b3-e493-4e51-d327-d273315f292a",
        "colab": {
          "base_uri": "https://localhost:8080/",
          "height": 51
        }
      },
      "cell_type": "code",
      "source": [
        "sample_mean = np.mean(restaurant_sample.column(3))\n",
        "sample_sd = np.std(restaurant_sample.column(3))\n",
        "sample_size = restaurant_sample.num_rows\n",
        "\n",
        "lower_bound_normal = sample_mean - 2*(np.std(restaurant_sample.column(3)))\n",
        "upper_bound_normal = sample_mean + 2*(np.std(restaurant_sample.column(3)))\n",
        "print(\"95% confidence interval for the average restaurant score, computed by a normal approximation:\\n(\",lower_bound_normal, \",\", upper_bound_normal, \")\")"
      ],
      "execution_count": 12,
      "outputs": [
        {
          "output_type": "stream",
          "text": [
            "95% confidence interval for the average restaurant score, computed by a normal approximation:\n",
            "( 75.49049356969991 , 108.10950643030009 )\n"
          ],
          "name": "stdout"
        }
      ]
    },
    {
      "metadata": {
        "colab_type": "code",
        "id": "czxnm9eOvqgk",
        "colab": {}
      },
      "cell_type": "code",
      "source": [
        ""
      ],
      "execution_count": 0,
      "outputs": []
    }
  ]
}